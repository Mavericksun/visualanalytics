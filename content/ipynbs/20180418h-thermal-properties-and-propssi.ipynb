{
 "cells": [
  {
   "cell_type": "markdown",
   "metadata": {},
   "source": [
    "Thermal properties of fluids, including refrigerants, air, and water, etc., are very commonly used in various analytics efforts. This article introduces the thermal properties module in the UTC Data Analytics Library.\n",
    "\n",
    "Currently, the integrated thermal properties module is based on the open source [Coolprop](http://www.coolprop.org/) package, which is a C++ library that integrates the equation of state of over 100 pure or pseudo-pure fluids.\n",
    "\n",
    "> *Warning*: Although the Coolprop library is widely used and most [data sources](http://www.coolprop.org/fluid_properties/PurePseudoPure.html#list-of-fluids) should be reliable, it cannot be fully trusted if you are to do some serious calculations. The bottom line is, at least perform some kind of cross check within the interested range, with *standard* data source such as Refprop from NIST.\n",
    "\n",
    "# Basic usage\n",
    "\n",
    "Import the `props_SI` function as:"
   ]
  },
  {
   "cell_type": "code",
   "execution_count": 1,
   "metadata": {},
   "outputs": [],
   "source": [
    "from UTCDAL.Utilities.Domain.Thermodynamics.thermal_props import props_SI"
   ]
  },
  {
   "cell_type": "markdown",
   "metadata": {},
   "source": [
    "There is also a shortcut for it if you feel the import chain is a bit too long:\n",
    "\n",
    "```python\n",
    "from UTCDAL.namespaces import props_SI\n",
    "```"
   ]
  },
  {
   "cell_type": "code",
   "execution_count": 2,
   "metadata": {},
   "outputs": [
    {
     "name": "stdout",
     "output_type": "stream",
     "text": [
      "Help on function props_SI in module UTCDAL.Utilities.Domain.Thermodynamics.thermal_props:\n",
      "\n",
      "props_SI(*args, **kwargs)\n",
      "    High-level function for calculating thermal properties of fluids.\n",
      "    \n",
      "    Sample use 1 (coolprop-like interface, with 6 arguments):\n",
      "    >>> import UTCDAL.namespaces as dal\n",
      "    >>> # calculate single state point\n",
      "    >>> # arguments should be ordered as follows\n",
      "    >>> dal.props_SI('C', 'T', 300, 'P', 101325, 'R410a')\n",
      "    >>> # calculate multiple state points by giving some iterable (list, etc)\n",
      "    >>> dal.props_SI('C', 'T', range(300, 350), 'P', 101325, 'R410a')\n",
      "    \n",
      "    Sample use 2 (with 4 arguments):\n",
      "    >>> dal.props_SI('C', 'R134a', T=300, P=101325)\n",
      "    \n",
      "    Sample use 3 (with 2 arguments):\n",
      "    >>> dal.props_SI('Tcrit', 'Water')\n",
      "    \n",
      "    To check available fluids, call without argument:\n",
      "    >>> dal.props_SI()\n",
      "\n"
     ]
    }
   ],
   "source": [
    "help(props_SI)"
   ]
  },
  {
   "cell_type": "markdown",
   "metadata": {},
   "source": [
    "# Available fluids\n",
    "\n",
    "All available fluids in the current version are:"
   ]
  },
  {
   "cell_type": "code",
   "execution_count": 3,
   "metadata": {},
   "outputs": [
    {
     "data": {
      "text/plain": [
       "['1-Butene', 'Acetone', 'Air', 'Ammonia', 'Argon', 'Benzene']"
      ]
     },
     "execution_count": 3,
     "metadata": {},
     "output_type": "execute_result"
    }
   ],
   "source": [
    "fluids = props_SI()\n",
    "\n",
    "fluids[:6]"
   ]
  },
  {
   "cell_type": "code",
   "execution_count": 4,
   "metadata": {},
   "outputs": [
    {
     "data": {
      "text/plain": [
       "122"
      ]
     },
     "execution_count": 4,
     "metadata": {},
     "output_type": "execute_result"
    }
   ],
   "source": [
    "len(fluids)"
   ]
  },
  {
   "cell_type": "markdown",
   "metadata": {},
   "source": [
    "There are in total 122 kinds of fluids in the database.\n",
    "\n",
    "# Example usage of `props_SI` function\n",
    "\n",
    "The first way of using `props_SI` function is created only for compatibility reasons. It is the default way if you are using the coolprop's Python binding, and similar to Refprop's default binding as well. The recommended ways are the last two ones, for instance:\n",
    "\n",
    "```python\n",
    "props_SI('C', 'R134a', T=300, P=101325)\n",
    "props_SI('Tcrit', 'Water')\n",
    "```\n",
    "\n",
    "The syntax is more concise and more readable as well.\n",
    "\n",
    "* Density of carbon dioxide at 100 bar and 25C"
   ]
  },
  {
   "cell_type": "code",
   "execution_count": 5,
   "metadata": {},
   "outputs": [
    {
     "data": {
      "text/plain": [
       "817.6273812375758"
      ]
     },
     "execution_count": 5,
     "metadata": {},
     "output_type": "execute_result"
    }
   ],
   "source": [
    "props_SI('D', 'CO2', T=298.15, P=100e5)"
   ]
  },
  {
   "cell_type": "markdown",
   "metadata": {},
   "source": [
    "* Saturated vapor enthalpy [J/kg] of R134a at 25C"
   ]
  },
  {
   "cell_type": "code",
   "execution_count": 6,
   "metadata": {},
   "outputs": [
    {
     "data": {
      "text/plain": [
       "412333.95323186804"
      ]
     },
     "execution_count": 6,
     "metadata": {},
     "output_type": "execute_result"
    }
   ],
   "source": [
    "props_SI('H', 'R134a', T=298.15, Q=1)"
   ]
  },
  {
   "cell_type": "markdown",
   "metadata": {},
   "source": [
    "* Boiling temperature of water at 101325 Pa"
   ]
  },
  {
   "cell_type": "code",
   "execution_count": 7,
   "metadata": {},
   "outputs": [
    {
     "data": {
      "text/plain": [
       "373.1242958476844"
      ]
     },
     "execution_count": 7,
     "metadata": {},
     "output_type": "execute_result"
    }
   ],
   "source": [
    "props_SI('T', 'Water', P=101325, Q=0)"
   ]
  },
  {
   "cell_type": "markdown",
   "metadata": {},
   "source": [
    "The above function calls can all accept inputs as iterables like list. It could be handy for analysis."
   ]
  },
  {
   "cell_type": "code",
   "execution_count": 8,
   "metadata": {},
   "outputs": [],
   "source": [
    "import numpy as np"
   ]
  },
  {
   "cell_type": "code",
   "execution_count": 9,
   "metadata": {},
   "outputs": [
    {
     "data": {
      "text/plain": [
       "[369.83714755587414,\n",
       " 372.04974504589956,\n",
       " 374.12552064990285,\n",
       " 376.08202331372576,\n",
       " 377.93354962911144]"
      ]
     },
     "execution_count": 9,
     "metadata": {},
     "output_type": "execute_result"
    }
   ],
   "source": [
    "props_SI('T', 'Water', P=np.linspace(0.9e5, 1.2e5, 5), Q=0)"
   ]
  },
  {
   "cell_type": "markdown",
   "metadata": {},
   "source": [
    "Notice that we have been using shorthands, e.g. T for temperature, D for density. You can find the full table from [coolprop's online reference](http://www.coolprop.org/coolprop/HighLevelAPI.html#parameter-table). We also included a table of commonly used variables:\n",
    "\n",
    "| Parameter | Description |\n",
    "| --------- | ----------- |\n",
    "| D | Density |\n",
    "| H | Mass specific enthalpy |\n",
    "| P | Pressure |\n",
    "| Q | Mass vapor quality |\n",
    "| S | Mass specific entropy |\n",
    "| T | Temperature |\n",
    "| U | Mass specific internal energy |\n",
    "| A | Speed of sound |\n",
    "| C | Mass specific constant pressure specific heat |\n",
    "| I | Surface tension |\n",
    "| V | Viscosity |"
   ]
  }
 ],
 "metadata": {
  "kernelspec": {
   "display_name": "Python 3",
   "language": "python",
   "name": "python3"
  },
  "language_info": {
   "codemirror_mode": {
    "name": "ipython",
    "version": 3
   },
   "file_extension": ".py",
   "mimetype": "text/x-python",
   "name": "python",
   "nbconvert_exporter": "python",
   "pygments_lexer": "ipython3",
   "version": "3.6.5"
  }
 },
 "nbformat": 4,
 "nbformat_minor": 2
}
