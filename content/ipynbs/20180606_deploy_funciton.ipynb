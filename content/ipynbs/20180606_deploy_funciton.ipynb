{
 "cells": [
  {
   "cell_type": "markdown",
   "metadata": {},
   "source": [
    "*Export Controlled: ECCN EAR1E998*\n",
    "\n",
    "Warning:  This document contains technical data whose export is restricted by the Bureau of Industry & Security’s Export Administration Regulations and cannot be exported or re-exported without the authorization of the U.S. government.   Violations of these export laws are subject to severe criminal penalties.  Diversion contrary to U.S. law is prohibited."
   ]
  },
  {
   "cell_type": "markdown",
   "metadata": {},
   "source": [
    "### This template shows how to deploy a function as web service API.\n",
    "\n",
    "This is useful in the case that there is a function which needs to be shared with others but do not want to open the detailed code.\n",
    "\n",
    "By deploying the function as API, others can call this funciton by web servie, but do not know how it works."
   ]
  },
  {
   "cell_type": "code",
   "execution_count": 1,
   "metadata": {
    "collapsed": true
   },
   "outputs": [],
   "source": [
    "import json\n",
    "import requests\n",
    "import pandas as pd\n",
    "import numpy as np\n",
    "from UTCDAL.Utilities.Math import gma\n",
    "from UTCDAL.Deploy.WebService import GenerateFlask\n",
    "from UTCDAL.Deploy.WebService import json_relate as jr"
   ]
  },
  {
   "cell_type": "markdown",
   "metadata": {},
   "source": [
    "### Generate a Flask file which acts an API\n",
    "\n",
    "In this demo, we choose to deploy the function `UTCDAL.Utilities.Math.gma`\n",
    "\n",
    "This function inputs a list (or array) of data and the window size, and it outputs data after exponential moving average."
   ]
  },
  {
   "cell_type": "code",
   "execution_count": 2,
   "metadata": {
    "collapsed": true
   },
   "outputs": [],
   "source": [
    "route = \"\"\"\n",
    "@app.route('/', methods=['GET','POST'])\n",
    "@api_function\n",
    "def gma_(**input_):\n",
    "    return gma(**input_)\n",
    "\"\"\""
   ]
  },
  {
   "cell_type": "markdown",
   "metadata": {},
   "source": [
    "The above cell is of the fixed format. Any function can be written as such format, only needs to change the two names (here are `gma_` and `gma`) of the function."
   ]
  },
  {
   "cell_type": "code",
   "execution_count": 3,
   "metadata": {
    "collapsed": true
   },
   "outputs": [],
   "source": [
    "import_info = \"\"\"\n",
    "from UTCDAL.Utilities.Math import gma\n",
    "from UTCDAL.Deploy.WebService.json_relate import api_function \n",
    "\"\"\""
   ]
  },
  {
   "cell_type": "code",
   "execution_count": 4,
   "metadata": {
    "collapsed": true
   },
   "outputs": [],
   "source": [
    "# generate web service (flask) environment\n",
    "flsk = GenerateFlask('app.py')\n",
    "\n",
    "flsk.add_diy(position='start', content=import_info)\n",
    "flsk.add_diy(route)\n",
    "flsk.add_no_cache()\n",
    "flsk.generate()"
   ]
  },
  {
   "cell_type": "markdown",
   "metadata": {},
   "source": [
    "### Open the command line, and change directory to the current folder.\n",
    "\n",
    "### Run `python app.py`"
   ]
  },
  {
   "cell_type": "markdown",
   "metadata": {},
   "source": [
    "Now assume `app.py` is running, we are going to call this function online."
   ]
  },
  {
   "cell_type": "code",
   "execution_count": 5,
   "metadata": {
    "collapsed": true
   },
   "outputs": [],
   "source": [
    "# the input of function gma, which should written as a dict\n",
    "dic = {'d': [1,2,3,2,1,5], 'Tss': 2}"
   ]
  },
  {
   "cell_type": "code",
   "execution_count": 6,
   "metadata": {
    "collapsed": true
   },
   "outputs": [],
   "source": [
    "header = {'Content-Type': 'application/json', 'Accept': 'application/json'}"
   ]
  },
  {
   "cell_type": "markdown",
   "metadata": {},
   "source": [
    "### Call the web service\n",
    "\n",
    "  * input:  transform `dic` as json object\n",
    "  * web address: your_public_IP:5000"
   ]
  },
  {
   "cell_type": "code",
   "execution_count": 7,
   "metadata": {
    "collapsed": true,
    "scrolled": true
   },
   "outputs": [],
   "source": [
    "resp = requests.post(\"http://127.0.0.1:5000\", data = json.dumps(dic), headers= header)"
   ]
  },
  {
   "cell_type": "markdown",
   "metadata": {},
   "source": [
    "Here is the output:"
   ]
  },
  {
   "cell_type": "code",
   "execution_count": 8,
   "metadata": {
    "scrolled": true
   },
   "outputs": [
    {
     "data": {
      "text/plain": [
       "{'data': '[[1.0, 1.473684210526316, 2.1076923076923078, 2.066350710900474, 1.6766917293233081, 2.853326857697912], [0.0, 0.24930747922437657, 0.7114792899408284, 0.4410952134947559, 0.5435920628639277, 2.8769814040916817]]'}"
      ]
     },
     "execution_count": 8,
     "metadata": {},
     "output_type": "execute_result"
    }
   ],
   "source": [
    "resp.json()"
   ]
  },
  {
   "cell_type": "code",
   "execution_count": null,
   "metadata": {
    "collapsed": true
   },
   "outputs": [],
   "source": []
  }
 ],
 "metadata": {
  "kernelspec": {
   "display_name": "Python 3",
   "language": "python",
   "name": "python3"
  },
  "language_info": {
   "codemirror_mode": {
    "name": "ipython",
    "version": 3
   },
   "file_extension": ".py",
   "mimetype": "text/x-python",
   "name": "python",
   "nbconvert_exporter": "python",
   "pygments_lexer": "ipython3",
   "version": "3.6.3"
  }
 },
 "nbformat": 4,
 "nbformat_minor": 2
}
