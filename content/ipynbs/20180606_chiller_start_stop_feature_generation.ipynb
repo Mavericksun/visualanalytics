{
 "cells": [
  {
   "cell_type": "markdown",
   "metadata": {
    "collapsed": true
   },
   "source": [
    "Export Controlled: ECCN EAR1E998\n",
    "\n",
    "Warning: This document contains technical data whose export is restricted by the Bureau of Industry & Security’s Export Administration Regulations and cannot be exported or re-exported without the authorization of the U.S. government. Violations of these export laws are subject to severe criminal penalties. Diversion contrary to U.S. law is prohibited."
   ]
  },
  {
   "cell_type": "markdown",
   "metadata": {},
   "source": [
    "Start with:\n",
    "•supply fan power if different chillers\n",
    "\n",
    "Objective:\n",
    "•feature generation for chiller start/stop feature extraction\n",
    " Features including: start/stop times, start hour, stop hour, hour per start, hour per stop\n"
   ]
  },
  {
   "cell_type": "code",
   "execution_count": 1,
   "metadata": {},
   "outputs": [],
   "source": [
    "from datetime import timedelta\n",
    "import pandas as pd\n",
    "import matplotlib.pyplot as plt\n",
    "from UTCDAL.Design.Preprocessing import start_stop_stats as ss\n",
    "from UTCDAL.Design.FeatureEngineering import distristat as dist\n",
    "from UTCDAL.Design.Preprocessing import pca"
   ]
  },
  {
   "cell_type": "code",
   "execution_count": 2,
   "metadata": {},
   "outputs": [],
   "source": [
    "def get_chiller_state(data, idd, date):\n",
    "    '''\n",
    "    extract data for chiller id(idd) on certain day(date)\n",
    "    '''\n",
    "    data = data[data['id'] == idd]\n",
    "    data = data[data['DT_SENSOR_READTIME'] == date]\n",
    "    if data.shape[0] == 0:  ####no preday data\n",
    "        result = -1\n",
    "    else:\n",
    "        result = data['flag'].values[0]\n",
    "    return result"
   ]
  },
  {
   "cell_type": "markdown",
   "metadata": {},
   "source": [
    "## Load data"
   ]
  },
  {
   "cell_type": "code",
   "execution_count": 3,
   "metadata": {},
   "outputs": [],
   "source": [
    "chiller_all = pd.read_csv('line_kw_in.csv', index_col=0)## load chiller power data\n",
    "chiller_all['DT_SENSOR_READTIME'] = pd.to_datetime(chiller_all['DT_SENSOR_READTIME'])\n",
    "chiller_all['year_month_day'] = pd.to_datetime(chiller_all['year_month_day'])\n",
    "start_date = pd.to_datetime('2017-02-02 00:00:00')\n",
    "chiller_data = chiller_all[chiller_all['year_month_day'] > start_date]"
   ]
  },
  {
   "cell_type": "code",
   "execution_count": 4,
   "metadata": {},
   "outputs": [
    {
     "data": {
      "text/html": [
       "<div>\n",
       "<style scoped>\n",
       "    .dataframe tbody tr th:only-of-type {\n",
       "        vertical-align: middle;\n",
       "    }\n",
       "\n",
       "    .dataframe tbody tr th {\n",
       "        vertical-align: top;\n",
       "    }\n",
       "\n",
       "    .dataframe thead th {\n",
       "        text-align: right;\n",
       "    }\n",
       "</style>\n",
       "<table border=\"1\" class=\"dataframe\">\n",
       "  <thead>\n",
       "    <tr style=\"text-align: right;\">\n",
       "      <th></th>\n",
       "      <th>id</th>\n",
       "      <th>Line_KW</th>\n",
       "      <th>DT_SENSOR_READTIME</th>\n",
       "      <th>year_month_day</th>\n",
       "    </tr>\n",
       "  </thead>\n",
       "  <tbody>\n",
       "    <tr>\n",
       "      <th>1453</th>\n",
       "      <td>1</td>\n",
       "      <td>213</td>\n",
       "      <td>2017-02-03 00:00:00</td>\n",
       "      <td>2017-02-03</td>\n",
       "    </tr>\n",
       "    <tr>\n",
       "      <th>1454</th>\n",
       "      <td>1</td>\n",
       "      <td>176</td>\n",
       "      <td>2017-02-03 00:15:00</td>\n",
       "      <td>2017-02-03</td>\n",
       "    </tr>\n",
       "    <tr>\n",
       "      <th>1455</th>\n",
       "      <td>1</td>\n",
       "      <td>204</td>\n",
       "      <td>2017-02-03 00:30:00</td>\n",
       "      <td>2017-02-03</td>\n",
       "    </tr>\n",
       "    <tr>\n",
       "      <th>1456</th>\n",
       "      <td>1</td>\n",
       "      <td>218</td>\n",
       "      <td>2017-02-03 00:45:00</td>\n",
       "      <td>2017-02-03</td>\n",
       "    </tr>\n",
       "    <tr>\n",
       "      <th>1457</th>\n",
       "      <td>1</td>\n",
       "      <td>176</td>\n",
       "      <td>2017-02-03 01:00:00</td>\n",
       "      <td>2017-02-03</td>\n",
       "    </tr>\n",
       "  </tbody>\n",
       "</table>\n",
       "</div>"
      ],
      "text/plain": [
       "      id  Line_KW  DT_SENSOR_READTIME year_month_day\n",
       "1453   1      213 2017-02-03 00:00:00     2017-02-03\n",
       "1454   1      176 2017-02-03 00:15:00     2017-02-03\n",
       "1455   1      204 2017-02-03 00:30:00     2017-02-03\n",
       "1456   1      218 2017-02-03 00:45:00     2017-02-03\n",
       "1457   1      176 2017-02-03 01:00:00     2017-02-03"
      ]
     },
     "execution_count": 4,
     "metadata": {},
     "output_type": "execute_result"
    }
   ],
   "source": [
    "chiller_data.head()"
   ]
  },
  {
   "cell_type": "markdown",
   "metadata": {},
   "source": [
    "## Getting sampling rate"
   ]
  },
  {
   "cell_type": "code",
   "execution_count": 5,
   "metadata": {},
   "outputs": [
    {
     "data": {
      "text/plain": [
       "[Timestamp('2017-02-03 00:00:00'),\n",
       " Timestamp('2017-02-03 00:15:00'),\n",
       " Timestamp('2017-02-03 00:30:00'),\n",
       " Timestamp('2017-02-03 00:45:00'),\n",
       " Timestamp('2017-02-03 01:00:00')]"
      ]
     },
     "execution_count": 5,
     "metadata": {},
     "output_type": "execute_result"
    }
   ],
   "source": [
    "ch_ids = chiller_data['id'].unique().tolist()\n",
    "time_list = chiller_data[chiller_data['id'] == ch_ids[0]]['DT_SENSOR_READTIME'].tolist()\n",
    "time_list[0:5]"
   ]
  },
  {
   "cell_type": "code",
   "execution_count": 6,
   "metadata": {},
   "outputs": [
    {
     "data": {
      "text/plain": [
       "96"
      ]
     },
     "execution_count": 6,
     "metadata": {},
     "output_type": "execute_result"
    }
   ],
   "source": [
    "sampling_rate = ss.get_sampling_rate(time_list)\n",
    "sampling_rate"
   ]
  },
  {
   "cell_type": "markdown",
   "metadata": {},
   "source": [
    "## Getting on and off for chiller"
   ]
  },
  {
   "cell_type": "code",
   "execution_count": 7,
   "metadata": {},
   "outputs": [
    {
     "name": "stderr",
     "output_type": "stream",
     "text": [
      "C:\\Users\\sunyuanj1\\AppData\\Local\\Continuum\\anaconda3\\lib\\site-packages\\ipykernel_launcher.py:1: SettingWithCopyWarning: \n",
      "A value is trying to be set on a copy of a slice from a DataFrame.\n",
      "Try using .loc[row_indexer,col_indexer] = value instead\n",
      "\n",
      "See the caveats in the documentation: http://pandas.pydata.org/pandas-docs/stable/indexing.html#indexing-view-versus-copy\n",
      "  \"\"\"Entry point for launching an IPython kernel.\n"
     ]
    }
   ],
   "source": [
    "chiller_data['flag'] = ss.prepro_start_stop(chiller_data['Line_KW'].tolist(), 1)"
   ]
  },
  {
   "cell_type": "code",
   "execution_count": 8,
   "metadata": {},
   "outputs": [
    {
     "name": "stdout",
     "output_type": "stream",
     "text": [
      "      id  Line_KW  DT_SENSOR_READTIME year_month_day  flag\n",
      "1453   1      213 2017-02-03 00:00:00     2017-02-03     1\n",
      "1454   1      176 2017-02-03 00:15:00     2017-02-03     1\n",
      "1455   1      204 2017-02-03 00:30:00     2017-02-03     1\n",
      "1456   1      218 2017-02-03 00:45:00     2017-02-03     1\n",
      "1457   1      176 2017-02-03 01:00:00     2017-02-03     1\n",
      "1458   1      212 2017-02-03 01:15:00     2017-02-03     1\n",
      "1459   1      216 2017-02-03 01:30:00     2017-02-03     1\n",
      "1460   1      173 2017-02-03 01:45:00     2017-02-03     1\n",
      "1461   1      205 2017-02-03 02:00:00     2017-02-03     1\n",
      "1462   1      237 2017-02-03 02:15:00     2017-02-03     1\n",
      "1463   1      193 2017-02-03 02:30:00     2017-02-03     1\n",
      "1464   1      199 2017-02-03 02:45:00     2017-02-03     1\n",
      "1465   1      226 2017-02-03 03:00:00     2017-02-03     1\n",
      "1466   1      194 2017-02-03 03:15:00     2017-02-03     1\n",
      "1467   1      204 2017-02-03 03:30:00     2017-02-03     1\n",
      "1468   1      221 2017-02-03 03:45:00     2017-02-03     1\n",
      "1469   1      206 2017-02-03 04:00:00     2017-02-03     1\n",
      "1470   1      199 2017-02-03 04:15:00     2017-02-03     1\n",
      "1471   1      189 2017-02-03 04:30:00     2017-02-03     1\n",
      "1472   1      200 2017-02-03 04:45:00     2017-02-03     1\n",
      "1473   1      203 2017-02-03 05:00:00     2017-02-03     1\n",
      "1474   1      187 2017-02-03 05:15:00     2017-02-03     1\n",
      "1475   1      194 2017-02-03 05:30:00     2017-02-03     1\n",
      "1476   1      201 2017-02-03 05:45:00     2017-02-03     1\n",
      "1477   1      183 2017-02-03 06:00:00     2017-02-03     1\n",
      "1478   1      198 2017-02-03 06:15:00     2017-02-03     1\n",
      "1479   1      224 2017-02-03 06:30:00     2017-02-03     1\n",
      "1480   1      214 2017-02-03 06:45:00     2017-02-03     1\n",
      "1481   1      221 2017-02-03 07:00:00     2017-02-03     1\n",
      "1482   1      195 2017-02-03 07:15:00     2017-02-03     1\n",
      "...   ..      ...                 ...            ...   ...\n",
      "1519   1      146 2017-02-03 16:30:00     2017-02-03     1\n",
      "1520   1        0 2017-02-03 16:45:00     2017-02-03     0\n",
      "1521   1        0 2017-02-03 17:00:00     2017-02-03     0\n",
      "1522   1        0 2017-02-03 17:15:00     2017-02-03     0\n",
      "1523   1        0 2017-02-03 17:30:00     2017-02-03     0\n",
      "1524   1        0 2017-02-03 17:45:00     2017-02-03     0\n",
      "1525   1        0 2017-02-03 18:00:00     2017-02-03     0\n",
      "1526   1        0 2017-02-03 18:15:00     2017-02-03     0\n",
      "1527   1        0 2017-02-03 18:30:00     2017-02-03     0\n",
      "1528   1        0 2017-02-03 18:45:00     2017-02-03     0\n",
      "1529   1        0 2017-02-03 19:00:00     2017-02-03     0\n",
      "1530   1        0 2017-02-03 19:15:00     2017-02-03     0\n",
      "1531   1        0 2017-02-03 19:30:00     2017-02-03     0\n",
      "1532   1        0 2017-02-03 19:45:00     2017-02-03     0\n",
      "1533   1        0 2017-02-03 20:00:00     2017-02-03     0\n",
      "1534   1        0 2017-02-03 20:15:00     2017-02-03     0\n",
      "1535   1        0 2017-02-03 20:30:00     2017-02-03     0\n",
      "1536   1        0 2017-02-03 20:45:00     2017-02-03     0\n",
      "1537   1        0 2017-02-03 21:00:00     2017-02-03     0\n",
      "1538   1      144 2017-02-03 21:15:00     2017-02-03     1\n",
      "1539   1        0 2017-02-03 21:30:00     2017-02-03     0\n",
      "1540   1      150 2017-02-03 21:45:00     2017-02-03     1\n",
      "1541   1        0 2017-02-03 22:00:00     2017-02-03     0\n",
      "1542   1        0 2017-02-03 22:15:00     2017-02-03     0\n",
      "1543   1      143 2017-02-03 22:30:00     2017-02-03     1\n",
      "1544   1        0 2017-02-03 22:45:00     2017-02-03     0\n",
      "1545   1        0 2017-02-03 23:00:00     2017-02-03     0\n",
      "1546   1       88 2017-02-03 23:15:00     2017-02-03     1\n",
      "1547   1        0 2017-02-03 23:30:00     2017-02-03     0\n",
      "1548   1        0 2017-02-03 23:45:00     2017-02-03     0\n",
      "\n",
      "[96 rows x 5 columns]\n",
      "2017-02-03 00:00:00\n"
     ]
    }
   ],
   "source": [
    "chiller_id = 1\n",
    "ch_days = chiller_data[chiller_data['id'] == 1]\n",
    "f_date = ch_days['year_month_day'].iloc[0]\n",
    "ch_days = ch_days[ch_days['year_month_day'] == f_date]\n",
    "print(ch_days)\n",
    "print(f_date)"
   ]
  },
  {
   "cell_type": "markdown",
   "metadata": {},
   "source": [
    "## Getting standard sampling time for each day"
   ]
  },
  {
   "cell_type": "code",
   "execution_count": 9,
   "metadata": {},
   "outputs": [
    {
     "name": "stdout",
     "output_type": "stream",
     "text": [
      "[Timestamp('2017-02-03 00:00:00'), Timestamp('2017-02-03 00:15:00'), Timestamp('2017-02-03 00:30:00'), Timestamp('2017-02-03 00:45:00'), Timestamp('2017-02-03 01:00:00'), Timestamp('2017-02-03 01:15:00'), Timestamp('2017-02-03 01:30:00'), Timestamp('2017-02-03 01:45:00'), Timestamp('2017-02-03 02:00:00'), Timestamp('2017-02-03 02:15:00'), Timestamp('2017-02-03 02:30:00'), Timestamp('2017-02-03 02:45:00'), Timestamp('2017-02-03 03:00:00'), Timestamp('2017-02-03 03:15:00'), Timestamp('2017-02-03 03:30:00'), Timestamp('2017-02-03 03:45:00'), Timestamp('2017-02-03 04:00:00'), Timestamp('2017-02-03 04:15:00'), Timestamp('2017-02-03 04:30:00'), Timestamp('2017-02-03 04:45:00'), Timestamp('2017-02-03 05:00:00'), Timestamp('2017-02-03 05:15:00'), Timestamp('2017-02-03 05:30:00'), Timestamp('2017-02-03 05:45:00'), Timestamp('2017-02-03 06:00:00'), Timestamp('2017-02-03 06:15:00'), Timestamp('2017-02-03 06:30:00'), Timestamp('2017-02-03 06:45:00'), Timestamp('2017-02-03 07:00:00'), Timestamp('2017-02-03 07:15:00'), Timestamp('2017-02-03 07:30:00'), Timestamp('2017-02-03 07:45:00'), Timestamp('2017-02-03 08:00:00'), Timestamp('2017-02-03 08:15:00'), Timestamp('2017-02-03 08:30:00'), Timestamp('2017-02-03 08:45:00'), Timestamp('2017-02-03 09:00:00'), Timestamp('2017-02-03 09:15:00'), Timestamp('2017-02-03 09:30:00'), Timestamp('2017-02-03 09:45:00'), Timestamp('2017-02-03 10:00:00'), Timestamp('2017-02-03 10:15:00'), Timestamp('2017-02-03 10:30:00'), Timestamp('2017-02-03 10:45:00'), Timestamp('2017-02-03 11:00:00'), Timestamp('2017-02-03 11:15:00'), Timestamp('2017-02-03 11:30:00'), Timestamp('2017-02-03 11:45:00'), Timestamp('2017-02-03 12:00:00'), Timestamp('2017-02-03 12:15:00'), Timestamp('2017-02-03 12:30:00'), Timestamp('2017-02-03 12:45:00'), Timestamp('2017-02-03 13:00:00'), Timestamp('2017-02-03 13:15:00'), Timestamp('2017-02-03 13:30:00'), Timestamp('2017-02-03 13:45:00'), Timestamp('2017-02-03 14:00:00'), Timestamp('2017-02-03 14:15:00'), Timestamp('2017-02-03 14:30:00'), Timestamp('2017-02-03 14:45:00'), Timestamp('2017-02-03 15:00:00'), Timestamp('2017-02-03 15:15:00'), Timestamp('2017-02-03 15:30:00'), Timestamp('2017-02-03 15:45:00'), Timestamp('2017-02-03 16:00:00'), Timestamp('2017-02-03 16:15:00'), Timestamp('2017-02-03 16:30:00'), Timestamp('2017-02-03 16:45:00'), Timestamp('2017-02-03 17:00:00'), Timestamp('2017-02-03 17:15:00'), Timestamp('2017-02-03 17:30:00'), Timestamp('2017-02-03 17:45:00'), Timestamp('2017-02-03 18:00:00'), Timestamp('2017-02-03 18:15:00'), Timestamp('2017-02-03 18:30:00'), Timestamp('2017-02-03 18:45:00'), Timestamp('2017-02-03 19:00:00'), Timestamp('2017-02-03 19:15:00'), Timestamp('2017-02-03 19:30:00'), Timestamp('2017-02-03 19:45:00'), Timestamp('2017-02-03 20:00:00'), Timestamp('2017-02-03 20:15:00'), Timestamp('2017-02-03 20:30:00'), Timestamp('2017-02-03 20:45:00'), Timestamp('2017-02-03 21:00:00'), Timestamp('2017-02-03 21:15:00'), Timestamp('2017-02-03 21:30:00'), Timestamp('2017-02-03 21:45:00'), Timestamp('2017-02-03 22:00:00'), Timestamp('2017-02-03 22:15:00'), Timestamp('2017-02-03 22:30:00'), Timestamp('2017-02-03 22:45:00'), Timestamp('2017-02-03 23:00:00'), Timestamp('2017-02-03 23:15:00'), Timestamp('2017-02-03 23:30:00'), Timestamp('2017-02-03 23:45:00')]\n"
     ]
    }
   ],
   "source": [
    "timelist_standard = ss.get_timestamp_perday(f_date, sampling_rate)\n",
    "print(timelist_standard)"
   ]
  },
  {
   "cell_type": "markdown",
   "metadata": {},
   "source": [
    "## Check wether data is missing"
   ]
  },
  {
   "cell_type": "code",
   "execution_count": 10,
   "metadata": {},
   "outputs": [
    {
     "name": "stdout",
     "output_type": "stream",
     "text": [
      "False\n"
     ]
    }
   ],
   "source": [
    "missflag = ss.day_time_check(ch_days['DT_SENSOR_READTIME'].tolist(), timelist_standard)\n",
    "print(missflag)"
   ]
  },
  {
   "cell_type": "markdown",
   "metadata": {},
   "source": [
    "## Normalize data on the standard time"
   ]
  },
  {
   "cell_type": "code",
   "execution_count": 11,
   "metadata": {},
   "outputs": [],
   "source": [
    "ch_days = ch_days[ch_days['DT_SENSOR_READTIME'].isin(timelist_standard)]"
   ]
  },
  {
   "cell_type": "markdown",
   "metadata": {},
   "source": [
    "## last datetime before front date"
   ]
  },
  {
   "cell_type": "code",
   "execution_count": 12,
   "metadata": {},
   "outputs": [
    {
     "name": "stdout",
     "output_type": "stream",
     "text": [
      "2017-02-02 23:45:00\n"
     ]
    }
   ],
   "source": [
    "p_date = f_date - timedelta(minutes=24*60/sampling_rate)\n",
    "print(p_date)"
   ]
  },
  {
   "cell_type": "markdown",
   "metadata": {},
   "source": [
    "## get chiller state on previous day"
   ]
  },
  {
   "cell_type": "code",
   "execution_count": 13,
   "metadata": {},
   "outputs": [
    {
     "name": "stdout",
     "output_type": "stream",
     "text": [
      "-1\n"
     ]
    }
   ],
   "source": [
    "pre_state = get_chiller_state(chiller_data, chiller_id, p_date)  ## -1 means no value for the previous date\n",
    "print(pre_state)"
   ]
  },
  {
   "cell_type": "markdown",
   "metadata": {},
   "source": [
    "## define an object for ss_info"
   ]
  },
  {
   "cell_type": "code",
   "execution_count": 14,
   "metadata": {},
   "outputs": [],
   "source": [
    "ss_obj = ss.Startstopinfo(ch_days['flag'].tolist(), missingflag=missflag)"
   ]
  },
  {
   "cell_type": "markdown",
   "metadata": {},
   "source": [
    "## get start_stop jump for each day"
   ]
  },
  {
   "cell_type": "code",
   "execution_count": 15,
   "metadata": {},
   "outputs": [],
   "source": [
    "ss_obj.get_jump(update=True, p_state=pre_state) ## if update = True, then update jump info. using previous date"
   ]
  },
  {
   "cell_type": "markdown",
   "metadata": {},
   "source": [
    "## get start_stop info for each day"
   ]
  },
  {
   "cell_type": "code",
   "execution_count": 16,
   "metadata": {},
   "outputs": [
    {
     "name": "stdout",
     "output_type": "stream",
     "text": [
      "   cycle  start  stop  start_hour  stop_hour  hour_per_start  hour_per_stop  \\\n",
      "0     11      5     6        15.5        8.5             3.1       1.416667   \n",
      "\n",
      "   id year_month_day  \n",
      "0   1     2017-02-03  \n"
     ]
    }
   ],
   "source": [
    "[daily_ss_stat, jump2start_index, start_info] = ss_obj.get_start_info()\n",
    "daily_ss_stat['id'] = chiller_id\n",
    "daily_ss_stat['year_month_day'] = f_date\n",
    "print(daily_ss_stat)"
   ]
  },
  {
   "cell_type": "code",
   "execution_count": null,
   "metadata": {},
   "outputs": [],
   "source": []
  }
 ],
 "metadata": {
  "kernelspec": {
   "display_name": "Python 3",
   "language": "python",
   "name": "python3"
  },
  "language_info": {
   "codemirror_mode": {
    "name": "ipython",
    "version": 3
   },
   "file_extension": ".py",
   "mimetype": "text/x-python",
   "name": "python",
   "nbconvert_exporter": "python",
   "pygments_lexer": "ipython3",
   "version": "3.6.5"
  }
 },
 "nbformat": 4,
 "nbformat_minor": 2
}
