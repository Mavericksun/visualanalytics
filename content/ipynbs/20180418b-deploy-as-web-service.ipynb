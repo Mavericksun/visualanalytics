{
 "cells": [
  {
   "cell_type": "markdown",
   "metadata": {},
   "source": [
    "*Export Controlled: ECCN EAR1E998*\n",
    "\n",
    "Warning:  This document contains technical data whose export is restricted by the Bureau of Industry & Security’s Export Administration Regulations and cannot be exported or re-exported without the authorization of the U.S. government.   Violations of these export laws are subject to severe criminal penalties.  Diversion contrary to U.S. law is prohibited."
   ]
  },
  {
   "cell_type": "markdown",
   "metadata": {},
   "source": [
    "# Deploy the trained model as web service"
   ]
  },
  {
   "cell_type": "markdown",
   "metadata": {},
   "source": [
    "## We need two more things:\n",
    "\n",
    "* A web server to handle requests\n",
    "* An HTML page to show the result"
   ]
  },
  {
   "cell_type": "code",
   "execution_count": 1,
   "metadata": {
    "collapsed": true
   },
   "outputs": [],
   "source": [
    "import os\n",
    "from UTCDAL.Deploy.WebService import GenerateFlask, GenerateHtml"
   ]
  },
  {
   "cell_type": "markdown",
   "metadata": {},
   "source": [
    "## 1. Generate the web service (flask related) files\n",
    "\n",
    "Use descriptive way to generate related files. We need:\n",
    "\n",
    "* index.html to show the page\n",
    "* app.py to serve the web service"
   ]
  },
  {
   "cell_type": "code",
   "execution_count": 2,
   "metadata": {
    "collapsed": true
   },
   "outputs": [],
   "source": [
    "# generate web service (flask) environment\n",
    "flsk = GenerateFlask('app.py', 'main.py')\n",
    "flsk.add_route('', 'index.html')\n",
    "flsk.generate()"
   ]
  },
  {
   "cell_type": "markdown",
   "metadata": {},
   "source": [
    "## 2. Generate html files and saved in the right directory \n",
    "\n",
    "Use descriptive way to build up the HTML templates."
   ]
  },
  {
   "cell_type": "code",
   "execution_count": 4,
   "metadata": {
    "collapsed": true
   },
   "outputs": [],
   "source": [
    "# generate html file of sf36\n",
    "html = GenerateHtml('index.html')\n",
    "html.add_title('Fan Power Prediction')\n",
    "html.add_refresh(15)\n",
    "html.add_text('Supply fan power monitor and diagnostics', 'h1')\n",
    "html.add_text('Energy curves of yesterday and today:', 'h3')\n",
    "html.add_image('', 'energy.svg') # the name of the image\n",
    "html.add_text('\\nEnergy status of the last 2 weeks:', 'h3')\n",
    "html.add_image('', 'last14predictions.svg')\n",
    "html.generate()"
   ]
  },
  {
   "cell_type": "markdown",
   "metadata": {},
   "source": [
    "## Further: Deploy the web service in a Docker container\n",
    "\n",
    "* Previously used simple http server\n",
    "* Now use containerized web server for flexibility and scalability"
   ]
  },
  {
   "cell_type": "markdown",
   "metadata": {},
   "source": [
    "### Step 1: Write a dockerfile:\n",
    "\n",
    "start from utcdal:v0.9.1, which provides the run time environment\n",
    "\n",
    "~~~\n",
    "FROM utcdal:v0.9.1\n",
    "WORKDIR /mydir\n",
    "ADD . /mydir/\n",
    "CMD /usr/local/python-3.6.3/bin/python3 /mydir/Demo/app.py\n",
    "~~~"
   ]
  },
  {
   "cell_type": "markdown",
   "metadata": {},
   "source": [
    "### Step 2: Build the docker image with the dockerfile\n",
    "\n",
    "    docker build -t hvac_anomaly:v1.0 ."
   ]
  },
  {
   "cell_type": "markdown",
   "metadata": {},
   "source": [
    "### Step 3: Run the container to start the web service\n",
    "\n",
    "    docker run --name hvac_anomaly1 -itd -p 5000:5000 hvac_anomaly:v1.0"
   ]
  }
 ],
 "metadata": {
  "kernelspec": {
   "display_name": "Python 3",
   "language": "python",
   "name": "python3"
  },
  "language_info": {
   "codemirror_mode": {
    "name": "ipython",
    "version": 3
   },
   "file_extension": ".py",
   "mimetype": "text/x-python",
   "name": "python",
   "nbconvert_exporter": "python",
   "pygments_lexer": "ipython3",
   "version": "3.6.3"
  }
 },
 "nbformat": 4,
 "nbformat_minor": 2
}
