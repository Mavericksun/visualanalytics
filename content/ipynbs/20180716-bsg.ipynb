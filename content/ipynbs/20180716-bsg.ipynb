{
 "cells": [
  {
   "cell_type": "markdown",
   "metadata": {},
   "source": [
    "Export Controlled: ECCN EAR1E998\n",
    "\n",
    "Warning: This document contains technical data whose export is restricted by the Bureau of Industry & Security’s Export Administration Regulations and cannot be exported or re-exported without the authorization of the U.S. government. Violations of these export laws are subject to severe criminal penalties. Diversion contrary to U.S. law is prohibited."
   ]
  },
  {
   "cell_type": "markdown",
   "metadata": {},
   "source": [
    "The BSG tempalate is able to show figures for time series data in excel.It is capable of ploting figures according to user setting.\n",
    "\n",
    "The following shows how we use it"
   ]
  },
  {
   "cell_type": "code",
   "execution_count": null,
   "metadata": {},
   "outputs": [],
   "source": [
    "from apptemplate_test import runflask"
   ]
  },
  {
   "cell_type": "markdown",
   "metadata": {},
   "source": [
    "Step 1:Run runflask_demo_test.py and fill  in the title name, port name and excel_name.\n",
    "runflask(titilename='Test title A',portnum=5001,dexcel_name_in='fcu1_1_jan.csv')"
   ]
  },
  {
   "cell_type": "code",
   "execution_count": null,
   "metadata": {},
   "outputs": [],
   "source": [
    "runflask(titilename='Test title A',portnum=5001,dexcel_name_in='fcu1_1_jan.csv')"
   ]
  },
  {
   "cell_type": "markdown",
   "metadata": {},
   "source": [
    "Step 2:Open the link according to the port you set in your browse. For this example, http://localhost:5001/"
   ]
  },
  {
   "cell_type": "markdown",
   "metadata": {},
   "source": [
    "Step 3:Select configuration such as the starting date, variables, plot type and period. Then click submit\n",
    "The following is an example for selection of configuration.\n",
    "![putty](<static/interface.png>)"
   ]
  },
  {
   "cell_type": "markdown",
   "metadata": {},
   "source": [
    "Step 4, check the result. Re-config if require to plot other figures. \n",
    "The following is an example of the figure based on the user setting.\n",
    "![putty](<static/bsg_figure.png>)"
   ]
  }
 ],
 "metadata": {
  "kernelspec": {
   "display_name": "Python 3",
   "language": "python",
   "name": "python3"
  },
  "language_info": {
   "codemirror_mode": {
    "name": "ipython",
    "version": 3
   },
   "file_extension": ".py",
   "mimetype": "text/x-python",
   "name": "python",
   "nbconvert_exporter": "python",
   "pygments_lexer": "ipython3",
   "version": "3.6.5"
  }
 },
 "nbformat": 4,
 "nbformat_minor": 2
}
