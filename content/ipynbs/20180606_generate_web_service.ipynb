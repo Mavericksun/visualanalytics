{
 "cells": [
  {
   "cell_type": "markdown",
   "metadata": {},
   "source": [
    "*Export Controlled: ECCN EAR1E998*\n",
    "\n",
    "Warning:  This document contains technical data whose export is restricted by the Bureau of Industry & Security’s Export Administration Regulations and cannot be exported or re-exported without the authorization of the U.S. government.   Violations of these export laws are subject to severe criminal penalties.  Diversion contrary to U.S. law is prohibited."
   ]
  },
  {
   "cell_type": "markdown",
   "metadata": {
    "collapsed": true
   },
   "source": [
    "### First generate a flask file to run the web service and a html file to show the web page"
   ]
  },
  {
   "cell_type": "code",
   "execution_count": 1,
   "metadata": {
    "collapsed": true
   },
   "outputs": [],
   "source": [
    "import os\n",
    "import matplotlib.pyplot as plt\n",
    "from UTCDAL.Utilities import login\n",
    "from UTCDAL.Utilities.DataAccess import sql_class\n",
    "from UTCDAL.Deploy.WebService import GenerateFlask, GenerateHtml"
   ]
  },
  {
   "cell_type": "code",
   "execution_count": 2,
   "metadata": {
    "collapsed": true
   },
   "outputs": [],
   "source": [
    "HTML_FILE = 'index.html'"
   ]
  },
  {
   "cell_type": "code",
   "execution_count": 3,
   "metadata": {
    "collapsed": true
   },
   "outputs": [],
   "source": [
    "# generate web service (flask) environment\n",
    "flsk = GenerateFlask('app.py') # generate the 'static' folder\n",
    "flsk.add_route('', HTML_FILE)\n",
    "flsk.add_no_cache()\n",
    "flsk.generate()"
   ]
  },
  {
   "cell_type": "code",
   "execution_count": 4,
   "metadata": {
    "collapsed": true
   },
   "outputs": [],
   "source": [
    "# generate html file of sf36\n",
    "html = GenerateHtml(HTML_FILE)\n",
    "html.add_title('Fan Power Data')\n",
    "html.add_refresh(15)\n",
    "html.add_text('Supply fan power monitor', 'h1')\n",
    "html.add_text('Energy curves from May1 to May3:', 'h3')\n",
    "html.add_image('', 'energy.svg') # the name of the image\n",
    "\n",
    "html.generate()"
   ]
  },
  {
   "cell_type": "markdown",
   "metadata": {},
   "source": [
    "### Now we have made the environment that can run flask web service,\n",
    "\n",
    "### we now down data from an existing database which store the fan power data from May1 to May3.\n"
   ]
  },
  {
   "cell_type": "code",
   "execution_count": 5,
   "metadata": {},
   "outputs": [
    {
     "name": "stdout",
     "output_type": "stream",
     "text": [
      "MySQL user name: chao\n",
      "MySQL password: ········\n"
     ]
    }
   ],
   "source": [
    "sql = sql_class.Sql(host='172.28.203.199:3306', schema='dal_test')\n",
    "read_data = sql.read_mysql('technical_wiki')"
   ]
  },
  {
   "cell_type": "code",
   "execution_count": 6,
   "metadata": {},
   "outputs": [
    {
     "data": {
      "text/html": [
       "<div>\n",
       "<style>\n",
       "    .dataframe thead tr:only-child th {\n",
       "        text-align: right;\n",
       "    }\n",
       "\n",
       "    .dataframe thead th {\n",
       "        text-align: left;\n",
       "    }\n",
       "\n",
       "    .dataframe tbody tr th {\n",
       "        vertical-align: top;\n",
       "    }\n",
       "</style>\n",
       "<table border=\"1\" class=\"dataframe\">\n",
       "  <thead>\n",
       "    <tr style=\"text-align: right;\">\n",
       "      <th></th>\n",
       "      <th>time</th>\n",
       "      <th>value</th>\n",
       "    </tr>\n",
       "  </thead>\n",
       "  <tbody>\n",
       "    <tr>\n",
       "      <th>0</th>\n",
       "      <td>2018-05-01 00:01:00</td>\n",
       "      <td>0.000993</td>\n",
       "    </tr>\n",
       "    <tr>\n",
       "      <th>1</th>\n",
       "      <td>2018-05-01 00:02:00</td>\n",
       "      <td>0.000969</td>\n",
       "    </tr>\n",
       "    <tr>\n",
       "      <th>2</th>\n",
       "      <td>2018-05-01 00:03:00</td>\n",
       "      <td>0.001107</td>\n",
       "    </tr>\n",
       "    <tr>\n",
       "      <th>3</th>\n",
       "      <td>2018-05-01 00:04:00</td>\n",
       "      <td>0.000984</td>\n",
       "    </tr>\n",
       "    <tr>\n",
       "      <th>4</th>\n",
       "      <td>2018-05-01 00:05:00</td>\n",
       "      <td>0.000965</td>\n",
       "    </tr>\n",
       "  </tbody>\n",
       "</table>\n",
       "</div>"
      ],
      "text/plain": [
       "                 time     value\n",
       "0 2018-05-01 00:01:00  0.000993\n",
       "1 2018-05-01 00:02:00  0.000969\n",
       "2 2018-05-01 00:03:00  0.001107\n",
       "3 2018-05-01 00:04:00  0.000984\n",
       "4 2018-05-01 00:05:00  0.000965"
      ]
     },
     "execution_count": 6,
     "metadata": {},
     "output_type": "execute_result"
    }
   ],
   "source": [
    "read_data.head()"
   ]
  },
  {
   "cell_type": "markdown",
   "metadata": {},
   "source": [
    "### Plotting:\n",
    "\n",
    "\n",
    "### The plot is named by 'energy.svg' as given in cell 4."
   ]
  },
  {
   "cell_type": "code",
   "execution_count": 7,
   "metadata": {
    "collapsed": true
   },
   "outputs": [],
   "source": [
    "fig, ax = plt.subplots(figsize=(12, 5))\n",
    "# plt.figure(figsize=(8,8))\n",
    "ax.plot(read_data['time'], read_data['value'], label='fan power value')\n",
    "ax.legend()\n",
    "plt.savefig('static/energy.svg')"
   ]
  },
  {
   "cell_type": "markdown",
   "metadata": {
    "collapsed": true
   },
   "source": [
    "### Option 1:\n",
    "\n",
    "Open command line, and change to this directory,\n",
    "\n",
    "run the command `python app.py`.\n",
    "\n",
    "The web service should be running, and you could visit it locally by 127.0.0.1:5000. \n",
    "\n",
    "Others could visit this page by http://{YourIPaddress}:5000.\n",
    "\n",
    "Option 2:\n",
    "\n",
    "In this notebook run the following cell and visit locally by 127.0.0.1:5000. "
   ]
  },
  {
   "cell_type": "code",
   "execution_count": null,
   "metadata": {},
   "outputs": [
    {
     "name": "stderr",
     "output_type": "stream",
     "text": [
      " * Running on http://0.0.0.0:5000/ (Press CTRL+C to quit)\n"
     ]
    }
   ],
   "source": [
    "%run app.py"
   ]
  },
  {
   "cell_type": "markdown",
   "metadata": {},
   "source": [
    "![title](fan power web page.png)"
   ]
  },
  {
   "cell_type": "code",
   "execution_count": null,
   "metadata": {
    "collapsed": true
   },
   "outputs": [],
   "source": []
  }
 ],
 "metadata": {
  "kernelspec": {
   "display_name": "Python 3",
   "language": "python",
   "name": "python3"
  },
  "language_info": {
   "codemirror_mode": {
    "name": "ipython",
    "version": 3
   },
   "file_extension": ".py",
   "mimetype": "text/x-python",
   "name": "python",
   "nbconvert_exporter": "python",
   "pygments_lexer": "ipython3",
   "version": "3.6.3"
  }
 },
 "nbformat": 4,
 "nbformat_minor": 2
}
