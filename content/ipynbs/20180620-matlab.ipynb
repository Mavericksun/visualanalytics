{
 "cells": [
  {
   "cell_type": "markdown",
   "metadata": {},
   "source": [
    "Export Controlled: ECCN EAR1E998\n",
    "\n",
    "Warning: This document contains technical data whose export is restricted by the Bureau of Industry & Security’s Export Administration Regulations and cannot be exported or re-exported without the authorization of the U.S. government. Violations of these export laws are subject to severe criminal penalties. Diversion contrary to U.S. law is prohibited."
   ]
  },
  {
   "cell_type": "markdown",
   "metadata": {},
   "source": [
    "The DAL has integrated a function to call Matlab internal function or call user defined script.\n",
    "\n",
    "\n",
    "*Matlab 2017a MATLAB Engine for Python supports Python version 2.7, 3.4 and 3.5\n",
    "\n",
    "*Matlab 2017b MATLAB Engine for Python supports Python version 2.7, 3.4, 3.5 and 3.6 "
   ]
  },
  {
   "cell_type": "code",
   "execution_count": 1,
   "metadata": {},
   "outputs": [],
   "source": [
    "from UTCDAL.API import matlab_api"
   ]
  },
  {
   "cell_type": "code",
   "execution_count": 2,
   "metadata": {},
   "outputs": [],
   "source": [
    "import scipy.io as sio"
   ]
  },
  {
   "cell_type": "code",
   "execution_count": 3,
   "metadata": {},
   "outputs": [],
   "source": [
    "import matplotlib.pyplot as plt"
   ]
  },
  {
   "cell_type": "code",
   "execution_count": 4,
   "metadata": {},
   "outputs": [],
   "source": [
    "path=r'C:\\Users\\Caixi\\Desktop\\10_DAL\\03MyTestFile\\Template\\Templates\\Jialong\\CallMatlab\\myfun'"
   ]
  },
  {
   "cell_type": "code",
   "execution_count": 5,
   "metadata": {},
   "outputs": [],
   "source": [
    "eng = matlab_api.load_matlab(filepath=path)"
   ]
  },
  {
   "cell_type": "markdown",
   "metadata": {},
   "source": [
    "# case 1: call matlab internal function"
   ]
  },
  {
   "cell_type": "code",
   "execution_count": 6,
   "metadata": {},
   "outputs": [],
   "source": [
    "result = eng.sin(3.14)"
   ]
  },
  {
   "cell_type": "code",
   "execution_count": 7,
   "metadata": {
    "scrolled": true
   },
   "outputs": [
    {
     "name": "stdout",
     "output_type": "stream",
     "text": [
      "the sin of 3.14 is: 0.0015926529164868282\n"
     ]
    }
   ],
   "source": [
    "print('the sin of 3.14 is:', result)"
   ]
  },
  {
   "cell_type": "markdown",
   "metadata": {},
   "source": [
    "# case 2: call user defined script:\n",
    "\n",
    "```julia\n",
    "% this is a simple test sample for training\n",
    "% created by wangjl4@utrc.utc.com\n",
    "\n",
    "a = 1:0.01:10;\n",
    "b = sin(a); \n",
    "plot(a, b)\n",
    "disp('This is to test script')\n",
    "```"
   ]
  },
  {
   "cell_type": "code",
   "execution_count": 8,
   "metadata": {},
   "outputs": [],
   "source": [
    "eng.my_script(nargout=0)"
   ]
  },
  {
   "cell_type": "markdown",
   "metadata": {},
   "source": [
    "# case 3: call user defined function:\n",
    "\n",
    "```julia\n",
    "function [o1, o2] = test_func(a, b)\n",
    "% this function is used to do training\n",
    "disp('this is to test the function')\n",
    "% output= a+ b;\n",
    "o1 = 2*a;\n",
    "o2 = 3*b;\n",
    "end\n",
    "```"
   ]
  },
  {
   "cell_type": "code",
   "execution_count": 9,
   "metadata": {},
   "outputs": [],
   "source": [
    "output = eng.my_func(1.2, 2.0, nargout=2)"
   ]
  },
  {
   "cell_type": "code",
   "execution_count": 10,
   "metadata": {},
   "outputs": [
    {
     "name": "stdout",
     "output_type": "stream",
     "text": [
      "the results are: (2.4, 6.0)\n"
     ]
    }
   ],
   "source": [
    "print('the results are:', output)"
   ]
  },
  {
   "cell_type": "markdown",
   "metadata": {},
   "source": [
    "# case 4: call matlab simulink:\n",
    "\n",
    "eng.open('controller_demo.slx') is for openning the simulink model below\n",
    "\n",
    "eng.sim('controller_demo.slx') is for running the simulation\n",
    "![putty](<static/simulink.png>)\n",
    "\n"
   ]
  },
  {
   "cell_type": "code",
   "execution_count": 11,
   "metadata": {},
   "outputs": [
    {
     "data": {
      "text/plain": [
       "matlab.double([])"
      ]
     },
     "execution_count": 11,
     "metadata": {},
     "output_type": "execute_result"
    }
   ],
   "source": [
    "eng.open('controller_demo.slx')"
   ]
  },
  {
   "cell_type": "code",
   "execution_count": 12,
   "metadata": {},
   "outputs": [
    {
     "data": {
      "text/plain": [
       "matlab.double([[0.0],[0.2],[0.4],[0.6000000000000001],[0.8],[0.9999999999999929],[1.0],[1.0000000000000142],[1.0323004347342006],[1.064600869468387],[1.1005345033080292],[1.1409155416817358],[1.1791774071046892],[1.222126440981477],[1.2705874070710172],[1.3153467206758056],[1.3623045324212064],[1.419349742772575],[1.4723352238945548],[1.5280042018122277],[1.5948336310981865],[1.6560879570096394],[1.7357913224054755],[1.8083183959684477],[1.8977198703395912],[1.9826362650941716],[2.090507760478529],[2.1900197864378077],[2.304218167970235],[2.446838910578325],[2.6069450215513252],[2.7192945754808497],[2.8316441294103742],[2.9634983662326957],[3.115239867927874],[3.2645938052381687],[3.3932565958017795],[3.5203483492413294],[3.661731949329229],[3.814568533375362],[3.963944131371251],[4.08539165070408],[4.193412557865027],[4.312693927605346],[4.449693897543929],[4.599603194402328],[4.742946309581539],[4.874747586607454],[5.0171958247049755],[5.171956195983999],[5.285259128439247],[5.398562060894495],[5.530027534730341],[5.6833005982114795],[5.833303287064742],[5.959378494308725],[6.0812518681912255],[6.215807606456928],[6.3587009009938456],[6.515859419416819],[6.634270686891715],[6.752681954366611],[6.886575007864721],[7.0354540178688065],[7.180596293666918],[7.309914079840544],[7.441857327092778],[7.587910961594139],[7.747323081977075],[7.8566171477303515],[7.965911213483628],[8.095314232771289],[8.253669536747658],[8.37620772888823],[8.498745921028803],[8.633951662860504],[8.779219745833858],[8.923394011224397],[9.066592885821214],[9.22228993501676],[9.334957021817077],[9.447624108617394],[9.578666143795205],[9.7320953772311],[9.882796185105477],[10.0]])"
      ]
     },
     "execution_count": 12,
     "metadata": {},
     "output_type": "execute_result"
    }
   ],
   "source": [
    "eng.sim('controller_demo.slx')"
   ]
  },
  {
   "cell_type": "markdown",
   "metadata": {},
   "source": [
    "the result is shown as below:\n",
    "\n",
    "![putty](<static/result_simulink.png>)"
   ]
  },
  {
   "cell_type": "code",
   "execution_count": 13,
   "metadata": {},
   "outputs": [],
   "source": [
    "data=sio.loadmat('result.mat')"
   ]
  },
  {
   "cell_type": "code",
   "execution_count": 14,
   "metadata": {},
   "outputs": [
    {
     "data": {
      "text/plain": [
       "<Figure size 432x288 with 0 Axes>"
      ]
     },
     "execution_count": 14,
     "metadata": {},
     "output_type": "execute_result"
    },
    {
     "data": {
      "text/plain": [
       "<Figure size 432x288 with 0 Axes>"
      ]
     },
     "metadata": {},
     "output_type": "display_data"
    }
   ],
   "source": [
    "plt.figure(1)"
   ]
  },
  {
   "cell_type": "code",
   "execution_count": 15,
   "metadata": {},
   "outputs": [
    {
     "data": {
      "text/plain": [
       "[<matplotlib.lines.Line2D at 0x98fd940>]"
      ]
     },
     "execution_count": 15,
     "metadata": {},
     "output_type": "execute_result"
    },
    {
     "data": {
      "image/png": "[encoded data removed]",
      "text/plain": [
       "<Figure size 432x288 with 1 Axes>"
      ]
     },
     "metadata": {},
     "output_type": "display_data"
    }
   ],
   "source": [
    "plt.plot(data['tout'],data['setpoint'])"
   ]
  },
  {
   "cell_type": "code",
   "execution_count": 16,
   "metadata": {},
   "outputs": [
    {
     "data": {
      "text/plain": [
       "[<matplotlib.lines.Line2D at 0x9ba24e0>]"
      ]
     },
     "execution_count": 16,
     "metadata": {},
     "output_type": "execute_result"
    },
    {
     "data": {
      "image/png": "[encoded data removed]",
      "text/plain": [
       "<Figure size 432x288 with 1 Axes>"
      ]
     },
     "metadata": {},
     "output_type": "display_data"
    }
   ],
   "source": [
    "plt.plot(data['tout'],data['output'])"
   ]
  }
 ],
 "metadata": {
  "kernelspec": {
   "display_name": "Python 3",
   "language": "python",
   "name": "python3"
  },
  "language_info": {
   "codemirror_mode": {
    "name": "ipython",
    "version": 3
   },
   "file_extension": ".py",
   "mimetype": "text/x-python",
   "name": "python",
   "nbconvert_exporter": "python",
   "pygments_lexer": "ipython3",
   "version": "3.6.5"
  }
 },
 "nbformat": 4,
 "nbformat_minor": 2
}
